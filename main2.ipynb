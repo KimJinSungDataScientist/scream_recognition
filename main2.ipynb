{
 "cells": [
  {
   "cell_type": "code",
   "execution_count": 1,
   "metadata": {},
   "outputs": [],
   "source": [
    "from flask import Flask\n",
    "\n",
    "app = Flask(__name__)\n",
    "\n",
    "@app.route('/')\n",
    "def root():\n",
    "    return 'welcome to flask!'\n",
    "\n",
    "\n",
    "@app.route('/sub')\n",
    "def sub():\n",
    "    return 'sub page'\n",
    "\n",
    "if __name__ == '__main__':\n",
    "    app.debug = True\n",
    "    app.run()"
   ]
  },
  {
   "cell_type": "code",
   "execution_count": 3,
   "metadata": {},
   "outputs": [],
   "source": [
    "from haversine import haversine"
   ]
  },
  {
   "cell_type": "code",
   "execution_count": 5,
   "metadata": {},
   "outputs": [],
   "source": [
    "ls = [[37.58241389, 126.9433168],\n",
    "  [37.5827115, 126.949762],\n",
    "  [37.58289337, 126.9495661],\n",
    "  [37.58292194, 126.9422678],\n",
    "  [37.58293469, 126.9440702],\n",
    "  [37.582952, 126.944597],\n",
    "  [37.582952, 126.944597],\n",
    "  [37.58298358, 126.942646],\n",
    "  [37.58312802, 126.95062],\n",
    "  [37.58312802, 126.95062],\n",
    "  [37.583181, 126.943752],\n",
    "  [37.58391483, 126.9439223],\n",
    "  [37.58404765, 126.9416597],\n",
    "  [37.58415678, 126.9504993],\n",
    "  [37.58438976, 126.9439175],\n",
    "  [37.58438976, 126.9439175],\n",
    "  [37.58438976, 126.9439175],\n",
    "  [37.58438976, 126.9439175],\n",
    "  [37.58438976, 126.9439175],\n",
    "  [37.58438976, 126.9439175],\n",
    "  [37.58438976, 126.9439175],\n",
    "  [37.58438976, 126.9439175],\n",
    "  [37.58438976, 126.9439175],\n",
    "  [37.58438976, 126.9439175],\n",
    "  [37.58445259, 126.943638],\n",
    "  [37.58500422, 126.9501734],\n",
    "  [37.585043, 126.944281],\n",
    "  [37.585302, 126.949721],\n",
    "  [37.585302, 126.949721],\n",
    "  [37.58548887, 126.9485604],\n",
    "  [37.58548887, 126.9485604],\n",
    "  [37.58549391, 126.9420246],\n",
    "  [37.58549391, 126.9420246],\n",
    "  [37.58549391, 126.9420246],\n",
    "  [37.58549391, 126.9420246],\n",
    "  [37.58549391, 126.9420246],\n",
    "  [37.58559368, 126.949082],\n",
    "  [37.58570706, 126.9412591],\n",
    "  [37.585915, 126.944067],\n",
    "  [37.58608066, 126.9525044],\n",
    "  [37.58608066, 126.9525044],\n",
    "  [37.58608066, 126.9525044],\n",
    "  [37.586172, 126.943384],\n",
    "  [37.58633135, 126.9420594],\n",
    "  [37.5865172, 126.9514211],\n",
    "  [37.5865172, 126.9514211],\n",
    "  [37.58665427, 126.9455166],\n",
    "  [37.58676468, 126.94737],\n",
    "  [37.58686427, 126.943098],\n",
    "  [37.58730046, 126.9489602],\n",
    "  [37.58732762, 126.9435781],\n",
    "  [37.587445, 126.944498],\n",
    "  [37.58744562, 126.9442285],\n",
    "  [37.58762421, 126.9468336],\n",
    "  [37.58762421, 126.9468336],\n",
    "  [37.58768472, 126.9426747],\n",
    "  [37.587851, 126.94672],\n",
    "  [37.58785716, 126.9466163],\n",
    "  [37.58813708, 126.9431509],\n",
    "  [37.58813708, 126.9431509],\n",
    "  [37.58831955, 126.9431637],\n",
    "  [37.58831955, 126.9431637],\n",
    "  [37.58833251, 126.9483245],\n",
    "  [37.58865221, 126.9430509],\n",
    "  [37.588694, 126.9456],\n",
    "  [37.58880122, 126.9467354],\n",
    "  [37.5889831, 126.9446724],\n",
    "  [37.58914015, 126.9441743],\n",
    "  [37.58925538, 126.9426716],\n",
    "  [37.58942532, 126.9455711],\n",
    "  [37.58985986, 126.9431517],\n",
    "  [37.590036, 126.944637],\n",
    "  [37.59025282, 126.9437397],\n",
    "  [37.590526, 126.946269],\n",
    "  [37.59054014, 126.9442684],\n",
    "  [37.5907463, 126.9440511],\n",
    "  [37.59093873, 126.9503191],\n",
    "  [37.59093873, 126.9503191],\n",
    "  [37.59093873, 126.9503191],\n",
    "  [37.59093873, 126.9503191],\n",
    "  [37.59103677, 126.9527124],\n",
    "  [37.591072, 126.941452],\n",
    "  [37.591072, 126.941452],\n",
    "  [37.591072, 126.941452],\n",
    "  [37.591072, 126.941452],\n",
    "  [37.59112046, 126.9452793],\n",
    "  [37.59112121, 126.9474416]\n",
    "]"
   ]
  },
  {
   "cell_type": "code",
   "execution_count": 6,
   "metadata": {},
   "outputs": [
    {
     "data": {
      "text/plain": [
       "87"
      ]
     },
     "execution_count": 6,
     "metadata": {},
     "output_type": "execute_result"
    }
   ],
   "source": [
    "len(ls)"
   ]
  },
  {
   "cell_type": "code",
   "execution_count": 13,
   "metadata": {},
   "outputs": [
    {
     "name": "stdout",
     "output_type": "stream",
     "text": [
      "Warning! 경로 이탈!\n"
     ]
    }
   ],
   "source": [
    "my_location = [37.5827115, 126.949862] # 계속해서 업데이트 되어야 하는 값\n",
    "temp_location = [0,0]\n",
    "\n",
    "safe=False # 이탈 했는지 Check\n",
    "on_load = True # 목적지 찾아가는 중일때 True\n",
    "\n",
    "# 오차범위 20m + 실제 이탈 10m\n",
    "\n",
    "temp_chk = 30 # 10초 마다 받는다 치면 300초 동안\n",
    "# 서버 체크 못함.\n",
    "# api끼리 영향 받으면 안됨. 독립성\n",
    "\n",
    "while(on_load == True):\n",
    "    if temp_location != my_location:\n",
    "        temp_location = my_location\n",
    "        temp_chk = 30 # front 체크 해서 보내줘야함.\n",
    "    else:\n",
    "        temp_chk-=1\n",
    "    \n",
    "    if temp_chk<0:\n",
    "        print('Warning! 같은 위치에 5분 동안 있음!')\n",
    "        break\n",
    "\n",
    "    for i in ls: # 모든 경로중에 30m 내에 없는 경우 \n",
    "        if haversine(i, my_location, unit = 'm')<30:\n",
    "            safe=True\n",
    "    \n",
    "    if safe==False:\n",
    "        print('Warning! 경로 이탈!')\n",
    "        break\n",
    "\n",
    "    safe=False"
   ]
  },
  {
   "cell_type": "code",
   "execution_count": null,
   "metadata": {},
   "outputs": [],
   "source": [
    "def safe_chk(gps_location, total_location): # 1초 마다 gps 가져온다는 가정하\n",
    "    safe=False # 이탈 했는지 Check / 함수 불릴때마다 초기화\n",
    "        \n",
    "    for i in total_location: # 모든 경로중에 30m 내에 없는 경우 \n",
    "        # 오차범위 20m + 실제 이탈 10m\n",
    "        if haversine(i, gps_location, unit = 'm')<30:\n",
    "            safe=True\n",
    "\n",
    "    if safe==False:\n",
    "        return ('Warning! 경로 이탈!')\n",
    "    else:\n",
    "        return ('정상')\n"
   ]
  },
  {
   "cell_type": "code",
   "execution_count": 14,
   "metadata": {},
   "outputs": [],
   "source": [
    "def safe_chk(gps_location, start_target_location, cnt): # 1초 마다 gps 가져온다는 가정하\n",
    "    temp_location = [0,0] # init에서 선언 / 초기화 되면 안됨, 계속 return 해줘야 될듯?\n",
    "    safe=False # 이탈 했는지 Check / 함수 불릴때마다 초기화\n",
    "    temp_chk = 300 # 1초 마다 받는다 치면 300초 동안 # init 에서 선언\n",
    "\n",
    "    if temp_location != gps_location:\n",
    "        temp_location = gps_location\n",
    "        temp_chk = 300\n",
    "    else:\n",
    "        temp_chk-=1\n",
    "        \n",
    "    if temp_chk<0:\n",
    "        print('Warning! 같은 위치에 5분 동안 있음!')\n",
    "\n",
    "    for i in start_target_location: # 모든 경로중에 30m 내에 없는 경우 \n",
    "        # 오차범위 20m + 실제 이탈 10m\n",
    "        if haversine(i, gps_location, unit = 'm')<30:\n",
    "            safe=True\n",
    "\n",
    "    if safe==False:\n",
    "        print('Warning! 경로 이탈!')\n",
    "\n",
    "    safe=False"
   ]
  },
  {
   "cell_type": "markdown",
   "metadata": {},
   "source": [
    "# 정리\n",
    "### 같은 자리에 5분(조정 가능) 이상 머무르면 이상 감지 알림 return\n",
    "### 예상 경로 30m 안에 없을시 이상 감지 알림 return"
   ]
  }
 ],
 "metadata": {
  "kernelspec": {
   "display_name": "Python 3.8.13 ('for_flask')",
   "language": "python",
   "name": "python3"
  },
  "language_info": {
   "codemirror_mode": {
    "name": "ipython",
    "version": 3
   },
   "file_extension": ".py",
   "mimetype": "text/x-python",
   "name": "python",
   "nbconvert_exporter": "python",
   "pygments_lexer": "ipython3",
   "version": "3.8.13"
  },
  "orig_nbformat": 4,
  "vscode": {
   "interpreter": {
    "hash": "e4ec5b533bc8bcebbfbcd7c766a4262dbed481bfd7bdcc3572f981c47766258f"
   }
  }
 },
 "nbformat": 4,
 "nbformat_minor": 2
}
