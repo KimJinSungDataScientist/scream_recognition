{
 "cells": [
  {
   "cell_type": "code",
   "execution_count": 45,
   "metadata": {},
   "outputs": [],
   "source": [
    "import pandas as pd\n",
    "\n",
    "df = pd.read_csv('./test_서대문구및종로.csv')"
   ]
  },
  {
   "cell_type": "code",
   "execution_count": 46,
   "metadata": {},
   "outputs": [],
   "source": [
    "df2 = df['column'].apply(lambda x : [i.replace('[','').replace(']','').replace(' ','') for i in x.split('],')])"
   ]
  },
  {
   "cell_type": "code",
   "execution_count": 47,
   "metadata": {},
   "outputs": [],
   "source": [
    "ls1 = []\n",
    "ls2 = []\n",
    "\n",
    "for i in df2:\n",
    "    for j in i:\n",
    "        ls1.append(j.split(',')[0])\n",
    "        ls2.append(j.split(',')[1])"
   ]
  },
  {
   "cell_type": "code",
   "execution_count": 48,
   "metadata": {},
   "outputs": [],
   "source": [
    "df3 = pd.DataFrame(zip(ls1,ls2),columns=['latitude','longitude'])\n",
    "df3['latitude'] = df3['latitude'].astype(float)\n",
    "df3['longitude'] = df3['longitude'].astype(float)"
   ]
  },
  {
   "cell_type": "code",
   "execution_count": 50,
   "metadata": {},
   "outputs": [],
   "source": [
    "df3.to_csv('row_to_col.csv',index=False)"
   ]
  },
  {
   "cell_type": "code",
   "execution_count": null,
   "metadata": {},
   "outputs": [],
   "source": []
  },
  {
   "cell_type": "code",
   "execution_count": 3,
   "metadata": {},
   "outputs": [],
   "source": [
    "import json\n",
    "import pandas as pd\n",
    "\n",
    "with open('./data/geo.json', \"r\", encoding=\"UTF-8\") as json_file:\n",
    "    # json_data = json.load(json_file)\n",
    "    json_data = [json.loads(line) for line in json_file]\n",
    "\n",
    "df = pd.json_normalize(json_data)"
   ]
  },
  {
   "cell_type": "code",
   "execution_count": 5,
   "metadata": {},
   "outputs": [
    {
     "data": {
      "text/plain": [
       "Index(['type', 'properties.ALWNC_DE', 'properties.ALWNC_RESN',\n",
       "       'properties.BSI_INT', 'properties.ENG_RN', 'properties.MVMN_DE',\n",
       "       'properties.MVMN_RESN', 'properties.MVM_RES_CD', 'properties.NTFC_DE',\n",
       "       'properties.OPERT_DE', 'properties.RBP_CN', 'properties.RDS_DPN_SE',\n",
       "       'properties.RDS_MAN_NO', 'properties.REP_CN', 'properties.RN',\n",
       "       'properties.RN_CD', 'properties.ROAD_BT', 'properties.ROAD_LT',\n",
       "       'properties.ROA_CLS_SE', 'properties.SIG_CD', 'properties.WDR_RD_CD',\n",
       "       'geometry.type', 'geometry.coordinates'],\n",
       "      dtype='object')"
      ]
     },
     "execution_count": 5,
     "metadata": {},
     "output_type": "execute_result"
    }
   ],
   "source": [
    "df.columns"
   ]
  },
  {
   "cell_type": "code",
   "execution_count": 11,
   "metadata": {},
   "outputs": [
    {
     "data": {
      "text/plain": [
       "Index(['type', 'properties.ALWNC_DE', 'properties.ALWNC_RESN',\n",
       "       'properties.BSI_INT', 'properties.ENG_RN', 'properties.MVMN_DE',\n",
       "       'properties.MVMN_RESN', 'properties.MVM_RES_CD', 'properties.NTFC_DE',\n",
       "       'properties.OPERT_DE', 'properties.RBP_CN', 'properties.RDS_DPN_SE',\n",
       "       'properties.RDS_MAN_NO', 'properties.REP_CN', 'properties.RN',\n",
       "       'properties.RN_CD', 'properties.ROAD_BT', 'properties.ROAD_LT',\n",
       "       'properties.ROA_CLS_SE', 'properties.SIG_CD', 'properties.WDR_RD_CD',\n",
       "       'geometry.type', 'geometry.coordinates'],\n",
       "      dtype='object')"
      ]
     },
     "execution_count": 11,
     "metadata": {},
     "output_type": "execute_result"
    }
   ],
   "source": [
    "df.columns"
   ]
  },
  {
   "cell_type": "code",
   "execution_count": 8,
   "metadata": {},
   "outputs": [],
   "source": [
    "df.to_csv('original.csv',encoding='cp949',index=False)"
   ]
  },
  {
   "cell_type": "code",
   "execution_count": 14,
   "metadata": {},
   "outputs": [],
   "source": [
    "df[['properties.RN','geometry.coordinates']].to_csv('RN_coordinates.csv',encoding='cp949',index=False)"
   ]
  }
 ],
 "metadata": {
  "kernelspec": {
   "display_name": "Python 3.8.8 ('base')",
   "language": "python",
   "name": "python3"
  },
  "language_info": {
   "codemirror_mode": {
    "name": "ipython",
    "version": 3
   },
   "file_extension": ".py",
   "mimetype": "text/x-python",
   "name": "python",
   "nbconvert_exporter": "python",
   "pygments_lexer": "ipython3",
   "version": "3.8.8"
  },
  "orig_nbformat": 4,
  "vscode": {
   "interpreter": {
    "hash": "ad2bdc8ecc057115af97d19610ffacc2b4e99fae6737bb82f5d7fb13d2f2c186"
   }
  }
 },
 "nbformat": 4,
 "nbformat_minor": 2
}
